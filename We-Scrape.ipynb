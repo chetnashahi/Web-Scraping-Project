{
 "cells": [
  {
   "cell_type": "code",
   "execution_count": 1,
   "metadata": {},
   "outputs": [],
   "source": [
    "from bs4 import BeautifulSoup\n",
    "import requests\n",
    "import pandas as pd\n",
    "import itertools\n",
    "import seaborn\n",
    "headers=({'Úser-Agent':'Mozilla/5.0 (Windows NT 10.0; Win64; x64) AppleWebKit/537.36 (KHTML, like Gecko) Chrome/85.0.4183.83 Safari/537.36'})\n",
    "nobo=\"https://www.nobroker.in/property/ajax/sale/bangalore/Marathahalli/?searchParam=W3sibGF0IjoxMi45NTU3NDI2LCJsb24iOjc3LjcwMDkwNTksInBsYWNlSWQiOiJDaElKeVl0RVp6TVNyanNSVWdWZUpjV1B4TFUiLCJwbGFjZU5hbWUiOiJNYXJhdGhhaGFsbGkifV0=&price=0,100000000000000&lat_lng=12.9557426,77.7009059&latitude=12.9557426&longitude=77.7009059&exclusiveProperty=false&orderBy=nbRank,desc&radius=2&propertyType=sale&pageNo=18\"\n",
    "response=requests.get(nobo)\n",
    "html_soup= BeautifulSoup(response.text,'html.parser')\n",
    "container1=html_soup.find_all('div',class_=\"card rent-property-card\")\n"
   ]
  },
  {
   "cell_type": "code",
   "execution_count": 4,
   "metadata": {},
   "outputs": [
    {
     "data": {
      "text/plain": [
       "[]"
      ]
     },
     "execution_count": 4,
     "metadata": {},
     "output_type": "execute_result"
    }
   ],
   "source": [
    "container1"
   ]
  },
  {
   "cell_type": "code",
   "execution_count": 2,
   "metadata": {},
   "outputs": [],
   "source": [
    "for i in container1:\n",
    "  first=i\n",
    "  name=first.find_all('span')[2].text\n",
    "  area=first.find_all('span')[8].text\n",
    "  rent=first.find_all('span')[10].text\n",
    "  sell_price=first.find_all('span')[11].text\n",
    "  print(\"Apartment name is {} which has {}sq ft rented at {} monthly and sold at {}\".format(name,area,rent,sell_price))\n",
    "\n"
   ]
  },
  {
   "cell_type": "code",
   "execution_count": 3,
   "metadata": {},
   "outputs": [],
   "source": [
    "\n",
    "for i in range(1,31):\n",
    "  nobo=\"https://www.nobroker.in/property/ajax/sale/bangalore/Marathahalli/?searchParam=W3sibGF0IjoxMi45NTU3NDI2LCJsb24iOjc3LjcwMDkwNTksInBsYWNlSWQiOiJDaElKeVl0RVp6TVNyanNSVWdWZUpjV1B4TFUiLCJwbGFjZU5hbWUiOiJNYXJhdGhhaGFsbGkifV0=&price=0,100000000000000&lat_lng=12.9557426,77.7009059&latitude=12.9557426&longitude=77.7009059&exclusiveProperty=false&orderBy=nbRank,desc&radius=2&propertyType=sale&pageNo=\"+ str(i) \n",
    "  html_soup= BeautifulSoup(response.text,'html.parser')\n",
    "  container1=html_soup.find_all('div',class_=\"card rent-property-card\")\n",
    "  for i in container1:\n",
    "    first=i\n",
    "    name=first.find_all('span')[2].text\n",
    "    area1=first.find_all('span')[7].text\n",
    "    area=first.find_all('span')[8].text\n",
    "    rent1=first.find_all('span')[9].text\n",
    "    rent=first.find_all('span')[10].text\n",
    "    sell_price=first.find_all('span')[11].text\n",
    "    print(\"Apartment name is {} which has {} {}sq ft rent for {} {} monthly and selling price is {}\".format(name,area,area1,rent1, rent,sell_price))\n",
    "  #print(first.find_all('span')[1].text)\n"
   ]
  },
  {
   "cell_type": "code",
   "execution_count": null,
   "metadata": {},
   "outputs": [],
   "source": []
  }
 ],
 "metadata": {
  "kernelspec": {
   "display_name": "Python 3",
   "language": "python",
   "name": "python3"
  },
  "language_info": {
   "codemirror_mode": {
    "name": "ipython",
    "version": 3
   },
   "file_extension": ".py",
   "mimetype": "text/x-python",
   "name": "python",
   "nbconvert_exporter": "python",
   "pygments_lexer": "ipython3",
   "version": "3.8.5"
  }
 },
 "nbformat": 4,
 "nbformat_minor": 4
}
